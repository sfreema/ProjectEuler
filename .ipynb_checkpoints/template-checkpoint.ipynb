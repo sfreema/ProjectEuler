{
 "cells": [
  {
   "cell_type": "markdown",
   "metadata": {},
   "source": [
    "# Euler Problem X\n",
    "\n",
    "[Problem Statement](https://projecteuler.net/problem=27)"
   ]
  },
  {
   "cell_type": "markdown",
   "metadata": {},
   "source": [
    "We have a parabola of standard form $f(n) = n^2 + an + b$ where $|a| < 1000, |b| \\leq 1000$ and $a,b \\in \\mathbb{Z}$ (the set of all integers). The goal is to find $a,b$ subject to their constraints so that for consecutive integers $n$ starting from $n = 0$, the above formula yields the most primes."
   ]
  },
  {
   "cell_type": "markdown",
   "metadata": {},
   "source": [
    "***\n",
    "## Analytical Observations"
   ]
  },
  {
   "cell_type": "markdown",
   "metadata": {},
   "source": [
    "1. Since we must start with $n = 0$, $b$ has to be prime and therefore $b > 1$.\n",
    "\n",
    "2. Consider the parity (evenness vs oddness) of $f(n)$, which must be odd for any sequence of primes except for the special case when $b = 2$. Also note that for all $n$, $f(n+1) - f(n) = 2n + a + 1$ has the opposite parity of $a$.\n",
    " 1. Case $b\\neq 2$: For all $n$, $f(n)$ is odd, so $2n + a + 1$ must be odd. This implies that $a$ is odd.\n",
    " 2. Case $b = 2$: $f(1) - f(0)$ must be odd, then all further consecutive differences must be even. Since a is fixed, this cannot happen. Therefore $b \\geq 3$.\n",
    "\n",
    "\n",
    "3. The vertex form is $f(n) = (n+\\frac{a}{2})^2 + b - \\frac{a^2}{4}$, making the vertex $(-\\frac{a}{2},b - \\frac{a^2}{4})$. Since $a$ is odd the vertex occurs between integer values, yet for $n \\in \\mathbb{Z}$, $f(n) \\in \\mathbb{Z}$. Since half a unit away from where the vertex occurs will raise the parabola's value by one-quarter (ie. for $y(x) = x^2$, $y(\\frac{1}{2}) = \\frac{1}{4}$), we need the vertex value $\\pm \\frac{1}{4}$ to be an integer:\n",
    "$$b - \\frac{a^2}{4} + \\frac{1}{4} \\in \\mathbb{Z}$$\n",
    "$$a^2 = 1 + 4k, k \\in \\mathbb{Z}, k \\geq 0$$\n",
    "after some manipulation. Therefore, $|a|$ can only take on values when $\\sqrt{1 + 4k}$ is an integer. This occurs less often than every odd number, for example when $k=1$, $\\sqrt{1 + 4(1)} = \\sqrt{5}$ is not an integer.\n",
    "\n",
    "4. Since $f(n) > 0$ for $ n \\geq 0$, parabola roots must be imaginary or occur when $n \\leq 0$. Using the quadratic formula, roots are located at $n_{roots} = \\frac{-a \\pm \\sqrt{a^2-4b}}{2}$.\n",
    " 1. Case imaginary roots: $a^2 - 4b < 0 \\Rightarrow |a| < 2\\sqrt{b}$. In terms of $k$, this is equivalent to $b > k$.\n",
    " 2. Case $n_{roots} \\leq 0$: The discriminant $a^2 - 4b$ is greater than 0 and it cannot be 0 based on the above discussion in 3: the vertex must be $\\frac{1}{4}$ below an integer value. So we need $a^2-4b > 0$ and the larger root $n = \\frac{-a + \\sqrt{a^2-4b}}{2} < 0$. These inequalities simplify to $|a| > 2\\sqrt{b}$ and $a > 0$. In terms of $k$, we need the opposite $b \\leq k$.\n",
    "\n",
    "Overall, the tightened constraints on $a$ and $b$ are as follows:\n",
    "- $|a| = \\sqrt{1 + 4k} < 1000$ for some $k \\geq 0, k \\in \\mathbb{Z}$\n",
    "- $3 \\leq b \\leq 1000$ and $b$ is prime\n",
    "- For $a$ and $b$ given, there are three cases according to the evaluation of the discrminant $d = a^2 - 4b$:\n",
    " - Case $d < 0$: We need $b > k$\n",
    " - Case $d > 0$: We need $b \\leq k$ and $a > 0$\n",
    " - Case $d = 0$: Not a valid solution"
   ]
  },
  {
   "cell_type": "markdown",
   "metadata": {},
   "source": [
    "***\n",
    "## Looking at the examples"
   ]
  },
  {
   "cell_type": "markdown",
   "metadata": {},
   "source": [
    "The problem statement provides two examples. One is the quadratic $n^2 + n + 41$ where every $n$ in $0 \\leq n \\leq 39$ yield a prime. Another is $n^2 - 79n + 1601$ for $0 \\leq n \\leq 79$."
   ]
  },
  {
   "cell_type": "code",
   "execution_count": null,
   "metadata": {},
   "outputs": [],
   "source": [
    "def print_example(a,b,end):\n",
    "    for n in range(end):\n",
    "        print('n =',n,', f(n) =',n**2+a*n+b)"
   ]
  },
  {
   "cell_type": "code",
   "execution_count": null,
   "metadata": {},
   "outputs": [],
   "source": [
    "print_example(1,41,41)"
   ]
  },
  {
   "cell_type": "markdown",
   "metadata": {},
   "source": [
    "$1681 = 41^2$"
   ]
  },
  {
   "cell_type": "code",
   "execution_count": null,
   "metadata": {},
   "outputs": [],
   "source": [
    "print_example(-79,1601,81)"
   ]
  },
  {
   "cell_type": "markdown",
   "metadata": {},
   "source": [
    "For this example we see that the parabola is simply a symmetric result of the first example about the vertex located at $n=39.5$"
   ]
  },
  {
   "cell_type": "markdown",
   "metadata": {},
   "source": [
    "We should also test our conditions on $a$ and $b$ and ensure they apply in these examples.\n",
    "\n",
    "__Example 1:__ $a = 1$, $b = 41$ <br>\n",
    "$a$ is odd, $b$ is prime, and there exists $k = 0$. <br>\n",
    "$d < 0$ and $b > k$ as expected.\n",
    "\n",
    "__Example 2:__ $a = -79$, $b = 1601$ <br>\n",
    "$a$ is odd, $b$ is prime, and there exists $k = 1560$. <br>\n",
    "$d < 0$ and again $b > k$ as expected."
   ]
  },
  {
   "cell_type": "markdown",
   "metadata": {},
   "source": [
    "***\n",
    "## Computational Approach"
   ]
  },
  {
   "cell_type": "markdown",
   "metadata": {},
   "source": [
    "1. Generating arrays containig valid values for each parameter $a$ and $b$.\n",
    "\n",
    "2. Calculate the discriminant $a^2-4b$ for all pairs, and determine which pairs are valid.\n",
    "\n",
    "3. Iterate through valid pairs and sequence of primes for consecutive $n$."
   ]
  },
  {
   "cell_type": "code",
   "execution_count": 4,
   "metadata": {},
   "outputs": [],
   "source": [
    "# imports\n",
    "import math"
   ]
  },
  {
   "cell_type": "markdown",
   "metadata": {},
   "source": [
    "### 1. Generating values for $a$, $b$"
   ]
  },
  {
   "cell_type": "code",
   "execution_count": 22,
   "metadata": {},
   "outputs": [],
   "source": [
    "a_options = {}\n",
    "for odd in range(1,1000,2):\n",
    "    int_test = odd**2 - 1\n",
    "    if not int_test % 4:\n",
    "        k = int(int_test / 4)\n",
    "        a_options[odd] = k\n",
    "        a_options[-odd] = k"
   ]
  },
  {
   "cell_type": "code",
   "execution_count": 23,
   "metadata": {},
   "outputs": [],
   "source": [
    "primes = [2]\n",
    "def prime_test(p):\n",
    "    if p in primes:\n",
    "        return True\n",
    "    elif p == 1:\n",
    "        return False\n",
    "    else:\n",
    "        for d in range(2,int(math.sqrt(p)+1)):\n",
    "            if not p % d:\n",
    "                return False\n",
    "        primes.append(p)\n",
    "        return True"
   ]
  },
  {
   "cell_type": "code",
   "execution_count": 24,
   "metadata": {},
   "outputs": [],
   "source": [
    "b_options = []\n",
    "for odd in range(3,1000,2):\n",
    "    if prime_test(odd):\n",
    "        b_options.append(odd)"
   ]
  },
  {
   "cell_type": "code",
   "execution_count": 25,
   "metadata": {},
   "outputs": [
    {
     "name": "stdout",
     "output_type": "stream",
     "text": [
      "Total options for a: 1000\n",
      "Total options for b: 167\n",
      "Total brute force options: 167000\n"
     ]
    }
   ],
   "source": [
    "print('Total options for a:', len(a_options)) # apparently k always exists!\n",
    "print('Total options for b:', len(b_options))\n",
    "print('Total brute force options:', len(a_options)*len(b_options))"
   ]
  },
  {
   "cell_type": "markdown",
   "metadata": {},
   "source": [
    "### 2. Trim options using discriminant"
   ]
  },
  {
   "cell_type": "code",
   "execution_count": 26,
   "metadata": {},
   "outputs": [],
   "source": [
    "ab_options = []\n",
    "for ak in a_options.items():\n",
    "    for b in b_options:\n",
    "        d = ak[0]**2 - 4 * b\n",
    "        if (d < 0 and b > ak[1]) or \\\n",
    "           (ak[0] > 0 and d > 0 and b <= ak[1]):\n",
    "            ab_options.append((ak[0],b))"
   ]
  },
  {
   "cell_type": "code",
   "execution_count": 27,
   "metadata": {},
   "outputs": [
    {
     "name": "stdout",
     "output_type": "stream",
     "text": [
      "86806\n"
     ]
    }
   ],
   "source": [
    "print(len(ab_options))"
   ]
  },
  {
   "cell_type": "markdown",
   "metadata": {},
   "source": [
    "### 3. Iterate options"
   ]
  },
  {
   "cell_type": "code",
   "execution_count": 28,
   "metadata": {},
   "outputs": [
    {
     "name": "stdout",
     "output_type": "stream",
     "text": [
      "(-61, 971, 71)\n"
     ]
    }
   ],
   "source": [
    "longest_run = (0,0,0)\n",
    "for ab in ab_options:\n",
    "    n = 1\n",
    "    while n > 0:\n",
    "        f = n**2 + ab[0]*n + ab[1]\n",
    "        if not prime_test(f):\n",
    "            if n > longest_run[2]:\n",
    "                longest_run = (ab[0],ab[1],n)\n",
    "            else:\n",
    "                n = 0\n",
    "        else:\n",
    "            n += 1\n",
    "print(longest_run)"
   ]
  },
  {
   "cell_type": "code",
   "execution_count": 29,
   "metadata": {},
   "outputs": [
    {
     "name": "stdout",
     "output_type": "stream",
     "text": [
      "n = 0 , f(n) = 971\n",
      "n = 1 , f(n) = 911\n",
      "n = 2 , f(n) = 853\n",
      "n = 3 , f(n) = 797\n",
      "n = 4 , f(n) = 743\n",
      "n = 5 , f(n) = 691\n",
      "n = 6 , f(n) = 641\n",
      "n = 7 , f(n) = 593\n",
      "n = 8 , f(n) = 547\n",
      "n = 9 , f(n) = 503\n",
      "n = 10 , f(n) = 461\n",
      "n = 11 , f(n) = 421\n",
      "n = 12 , f(n) = 383\n",
      "n = 13 , f(n) = 347\n",
      "n = 14 , f(n) = 313\n",
      "n = 15 , f(n) = 281\n",
      "n = 16 , f(n) = 251\n",
      "n = 17 , f(n) = 223\n",
      "n = 18 , f(n) = 197\n",
      "n = 19 , f(n) = 173\n",
      "n = 20 , f(n) = 151\n",
      "n = 21 , f(n) = 131\n",
      "n = 22 , f(n) = 113\n",
      "n = 23 , f(n) = 97\n",
      "n = 24 , f(n) = 83\n",
      "n = 25 , f(n) = 71\n",
      "n = 26 , f(n) = 61\n",
      "n = 27 , f(n) = 53\n",
      "n = 28 , f(n) = 47\n",
      "n = 29 , f(n) = 43\n",
      "n = 30 , f(n) = 41\n",
      "n = 31 , f(n) = 41\n",
      "n = 32 , f(n) = 43\n",
      "n = 33 , f(n) = 47\n",
      "n = 34 , f(n) = 53\n",
      "n = 35 , f(n) = 61\n",
      "n = 36 , f(n) = 71\n",
      "n = 37 , f(n) = 83\n",
      "n = 38 , f(n) = 97\n",
      "n = 39 , f(n) = 113\n",
      "n = 40 , f(n) = 131\n",
      "n = 41 , f(n) = 151\n",
      "n = 42 , f(n) = 173\n",
      "n = 43 , f(n) = 197\n",
      "n = 44 , f(n) = 223\n",
      "n = 45 , f(n) = 251\n",
      "n = 46 , f(n) = 281\n",
      "n = 47 , f(n) = 313\n",
      "n = 48 , f(n) = 347\n",
      "n = 49 , f(n) = 383\n",
      "n = 50 , f(n) = 421\n",
      "n = 51 , f(n) = 461\n",
      "n = 52 , f(n) = 503\n",
      "n = 53 , f(n) = 547\n",
      "n = 54 , f(n) = 593\n",
      "n = 55 , f(n) = 641\n",
      "n = 56 , f(n) = 691\n",
      "n = 57 , f(n) = 743\n",
      "n = 58 , f(n) = 797\n",
      "n = 59 , f(n) = 853\n",
      "n = 60 , f(n) = 911\n",
      "n = 61 , f(n) = 971\n",
      "n = 62 , f(n) = 1033\n",
      "n = 63 , f(n) = 1097\n",
      "n = 64 , f(n) = 1163\n",
      "n = 65 , f(n) = 1231\n",
      "n = 66 , f(n) = 1301\n",
      "n = 67 , f(n) = 1373\n",
      "n = 68 , f(n) = 1447\n",
      "n = 69 , f(n) = 1523\n",
      "n = 70 , f(n) = 1601\n"
     ]
    }
   ],
   "source": [
    "print_example(-61,971,71)"
   ]
  },
  {
   "cell_type": "markdown",
   "metadata": {},
   "source": [
    "###  4. Conclusion"
   ]
  },
  {
   "cell_type": "markdown",
   "metadata": {},
   "source": [
    "Apparently the prime list we found is the same presented in the example. If we had known this, then we could have simplified our search by checking that every unique prime generated from the $a=1$, $b=41$ example was yielded. While there may be a way to show this, I will not do that now.\n",
    "\n",
    "Regardless, the submission we are looking for is $ab$:"
   ]
  },
  {
   "cell_type": "code",
   "execution_count": 33,
   "metadata": {},
   "outputs": [
    {
     "name": "stdout",
     "output_type": "stream",
     "text": [
      "Answer: -59231\n"
     ]
    }
   ],
   "source": [
    "print('Answer:', longest_run[0]*longest_run[1])"
   ]
  }
 ],
 "metadata": {
  "kernelspec": {
   "display_name": "Python 3",
   "language": "python",
   "name": "python3"
  },
  "language_info": {
   "codemirror_mode": {
    "name": "ipython",
    "version": 3
   },
   "file_extension": ".py",
   "mimetype": "text/x-python",
   "name": "python",
   "nbconvert_exporter": "python",
   "pygments_lexer": "ipython3",
   "version": "3.8.5"
  }
 },
 "nbformat": 4,
 "nbformat_minor": 4
}
