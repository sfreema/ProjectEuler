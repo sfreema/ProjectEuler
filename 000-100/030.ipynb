{
 "cells": [
  {
   "cell_type": "markdown",
   "metadata": {},
   "source": [
    "# Euler Problem 30: Digit Fifth Powers\n",
    "\n",
    "[Problem Statement](https://projecteuler.net/problem=30)"
   ]
  },
  {
   "cell_type": "markdown",
   "metadata": {},
   "source": [
    "We are looking at the property of natural numbers equating to their sum of fifth powers of their digits. Here is an example of a number that is equal to its digits to fourth powers:\n",
    "$$1634 = 1^4 + 6^4 + 3^4 + 4^4$$\n",
    "\n",
    "So we are to find all numbers equal to their digits raised to the first power, and add the numbers together for a single final answer submission."
   ]
  },
  {
   "cell_type": "markdown",
   "metadata": {},
   "source": [
    "***\n",
    "## Analytical Observations"
   ]
  },
  {
   "cell_type": "markdown",
   "metadata": {},
   "source": [
    "Can we determine the bounds for the search?\n",
    "\n",
    "Take all digits in the number to be 9, then we would be testing equality of\n",
    "1.  $\\sum^n_{i=1}(9^5) = 59049n$, and\n",
    "2.  $9\\sum^{n-1}_{i=0}10^i$\n",
    "\n",
    "with $n$ digits. So in order for the second sum to be at least the size of just one of its 9 digits, $n \\geq 5$. But then for $n=6$, $59049 \\cdot 6 = 295245$ which is far less than the digit representation $999999$, and for greater $n$ this will diverge from the first sum. This is an upper bound to our search."
   ]
  },
  {
   "cell_type": "markdown",
   "metadata": {},
   "source": [
    "***\n",
    "## Computational Approach"
   ]
  },
  {
   "cell_type": "code",
   "execution_count": 31,
   "metadata": {},
   "outputs": [
    {
     "name": "stdout",
     "output_type": "stream",
     "text": [
      "4150\n",
      "4151\n",
      "54748\n",
      "92727\n",
      "93084\n",
      "194979\n"
     ]
    }
   ],
   "source": [
    "super_sum = 0\n",
    "for i in range(2,59049*6+1):\n",
    "    digits = [int(x) for x in list(str(i))]\n",
    "    sum = 0\n",
    "    for d in digits:\n",
    "        sum += d**5\n",
    "    if i - sum == 0:\n",
    "        print(i)\n",
    "        super_sum += i"
   ]
  },
  {
   "cell_type": "code",
   "execution_count": 32,
   "metadata": {},
   "outputs": [
    {
     "name": "stdout",
     "output_type": "stream",
     "text": [
      "Answer: 443839\n"
     ]
    }
   ],
   "source": [
    "print('Answer:',super_sum)"
   ]
  },
  {
   "cell_type": "markdown",
   "metadata": {},
   "source": [
    "---\n",
    "\n",
    "## Conclusion"
   ]
  },
  {
   "cell_type": "markdown",
   "metadata": {},
   "source": [
    "Not too much of a problem. Certainly some steps could be made to prune options up to the maximum value."
   ]
  }
 ],
 "metadata": {
  "kernelspec": {
   "display_name": "Python 3",
   "language": "python",
   "name": "python3"
  },
  "language_info": {
   "codemirror_mode": {
    "name": "ipython",
    "version": 3
   },
   "file_extension": ".py",
   "mimetype": "text/x-python",
   "name": "python",
   "nbconvert_exporter": "python",
   "pygments_lexer": "ipython3",
   "version": "3.8.5"
  }
 },
 "nbformat": 4,
 "nbformat_minor": 4
}
