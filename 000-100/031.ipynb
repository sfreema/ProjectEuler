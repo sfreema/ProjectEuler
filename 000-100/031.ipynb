{
 "cells": [
  {
   "cell_type": "markdown",
   "metadata": {},
   "source": [
    "# Euler Problem 31: Coin sums\n",
    "\n",
    "[Problem Statement](https://projecteuler.net/problem=31)"
   ]
  },
  {
   "cell_type": "markdown",
   "metadata": {},
   "source": [
    "We have 2 pound sterlings to total from any number of coins. Available coins are 1p, 2p, 5p, 10p, 20p, 50p, 100p, 200p where 100 pence = 1 pound. How many ways can we total 2 pounds?"
   ]
  },
  {
   "cell_type": "markdown",
   "metadata": {},
   "source": [
    "***\n",
    "## Computational Approach\n",
    "\n",
    "We will perform a brute force approach that enumerates over possible sums. In order to ensure we are covering every option and doing so only once, we will arrange coins in decreasing value when counting them."
   ]
  },
  {
   "cell_type": "code",
   "execution_count": 1,
   "metadata": {},
   "outputs": [],
   "source": [
    "coins = [200,100,50,20,10,5,2,1]\n",
    "\n",
    "# each unique total will be embedded in a list with the number of coins in the same index as what's shown in coins\n",
    "# option_total(option=[0,2,0,0,0,0,0,0]) = 200\n",
    "def option_total(option):\n",
    "    count = 0\n",
    "    for c in range(len(coins)):\n",
    "        count += coins[c]*option[c]\n",
    "    return count\n",
    "\n",
    "def use_next_coin(r,opt):\n",
    "    smallest = max([i if c > 0 else -1 for i,c in enumerate(opt)])\n",
    "    smallest = 0 if smallest < 0 else smallest\n",
    "    for c in range(smallest,len(opt)):\n",
    "        if r >= coins[c]:\n",
    "            opt[c] += 1\n",
    "            return coins[c]"
   ]
  },
  {
   "cell_type": "code",
   "execution_count": 2,
   "metadata": {},
   "outputs": [],
   "source": [
    "def options_calculator(total):\n",
    "    options = []\n",
    "    start = [0]*len(coins)\n",
    "    while start != [0]*(len(coins)-1) + [1]:\n",
    "\n",
    "        option = start.copy()\n",
    "        remaining = total - option_total(option)\n",
    "        \n",
    "        # accumulate the assembly of coins for this unique option\n",
    "        while remaining > 0:\n",
    "            used_coin = use_next_coin(remaining,option)\n",
    "            remaining -= used_coin\n",
    "            #print(option)\n",
    "        options.append(option)\n",
    "        #print('option',option)\n",
    "\n",
    "        # reset for the next iteration\n",
    "        start = option.copy()\n",
    "        smallest_non_penny = max([i if c > 0 else -1 for i,c in enumerate(start[:-1])])\n",
    "        #print(smallest_non_penny)\n",
    "        #if start[smallest_non_penny] == 1:\n",
    "        start[smallest_non_penny] -= 1\n",
    "        for c in range(smallest_non_penny+1,len(start)):\n",
    "            start[c] = 0\n",
    "        #else:\n",
    "        #    start[smallest_non_penny] -= 1\n",
    "        start[smallest_non_penny+1] = 1\n",
    "        #print('start',start)\n",
    "\n",
    "    options.append([0]*(len(coins)-1) + [total])\n",
    "        \n",
    "    if False:\n",
    "        for o in options:\n",
    "            for c in range(len(coins)):\n",
    "                for n in range(o[c]):\n",
    "                    print(coins[c],end='')\n",
    "            print('')\n",
    "    return len(options)"
   ]
  },
  {
   "cell_type": "code",
   "execution_count": 3,
   "metadata": {},
   "outputs": [
    {
     "name": "stdout",
     "output_type": "stream",
     "text": [
      "Answer: 73682\n"
     ]
    }
   ],
   "source": [
    "print('Answer:',options_calculator(200))"
   ]
  },
  {
   "cell_type": "markdown",
   "metadata": {},
   "source": [
    "---\n",
    "\n",
    "## Conclusion"
   ]
  },
  {
   "cell_type": "markdown",
   "metadata": {},
   "source": [
    "My approach is very lazy, and took longer than it should have taken to code correctly!\n",
    "\n",
    "The recursive nature of the problem is evident. And instead of pursuing a recursive approach, I instead opted to push through with this wacky solution, which does have an advantage of being built easy to visualize all options, but it is slow."
   ]
  }
 ],
 "metadata": {
  "kernelspec": {
   "display_name": "Python 3",
   "language": "python",
   "name": "python3"
  },
  "language_info": {
   "codemirror_mode": {
    "name": "ipython",
    "version": 3
   },
   "file_extension": ".py",
   "mimetype": "text/x-python",
   "name": "python",
   "nbconvert_exporter": "python",
   "pygments_lexer": "ipython3",
   "version": "3.8.5"
  }
 },
 "nbformat": 4,
 "nbformat_minor": 4
}
