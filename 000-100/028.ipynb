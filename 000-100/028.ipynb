{
 "cells": [
  {
   "cell_type": "markdown",
   "metadata": {},
   "source": [
    "# Euler Problem 28\n",
    "\n",
    "[Problem Statement](https://projecteuler.net/problem=28)"
   ]
  },
  {
   "cell_type": "markdown",
   "metadata": {},
   "source": [
    "We have a square matrix with side length 1001 formed by starting with 1 in the middle and and counting upward to the right and clockwise. The goal is to find the sum of numbers that exist on the diagonals of the matrix.\n",
    "\n",
    "Example 5 by 5 for reference:<br>\n",
    "![5 by 5](028_ex.png)\n",
    "\n",
    "For the 7 by 7 example, the diagonal numbers are 31, 37, 43, 49."
   ]
  },
  {
   "cell_type": "markdown",
   "metadata": {},
   "source": [
    "***\n",
    "## Analytical Observations"
   ]
  },
  {
   "cell_type": "markdown",
   "metadata": {},
   "source": [
    "1. The top right number in any $n$ by $n$ square matrix of this kind is $n^2$. This is always an odd square.\n",
    "\n",
    "2. Similarly, the $n-1$ by $n-1$ square matrix that covers the bottom right of the $n$ by $n$ square matrix achieves its highest number in the bottom left, which is always an even square (see the 4 and 16 in the above example). As a result, the bottom left number in the $n$ by $n$ matrix is an even square plus 1.\n",
    "\n",
    "3. The top left and bottom right diagonal numbers for a given $n$ by $n$ square matrix can be calculated from $(n-1)^2 + 1 \\pm n-1$. Summing these numbers however will cancel the $\\pm n-1$ terms, so overall for a given $n$ by $n$ square matrix ($n > 1$) its sum contribution is $n^2 + 3[(n-1)^2 + 1]$. Let's check this:\n",
    " - $n=3$: Sum is 24. $(3)^2 + 3[(3-1)^2 + 1] = 24$\n",
    " - $n=5$: The formula gives 76\n",
    " - Adding the contribution from $n=1,2,3$, we get a sum of 101 as expected."
   ]
  },
  {
   "cell_type": "markdown",
   "metadata": {},
   "source": [
    "***\n",
    "## Computational Approach"
   ]
  },
  {
   "cell_type": "markdown",
   "metadata": {},
   "source": [
    "Simply sum the contributions of each (odd) $n$ up to 1001:"
   ]
  },
  {
   "cell_type": "code",
   "execution_count": 2,
   "metadata": {},
   "outputs": [
    {
     "name": "stdout",
     "output_type": "stream",
     "text": [
      "Answer: 669171001\n"
     ]
    }
   ],
   "source": [
    "diag_sum = 1\n",
    "for n in range(3,1001+1,2):\n",
    "    diag_sum += n**2 + 3*((n-1)**2+1)\n",
    "print('Answer:',diag_sum)"
   ]
  },
  {
   "cell_type": "markdown",
   "metadata": {},
   "source": [
    "***\n",
    "## Conclusion"
   ]
  },
  {
   "cell_type": "markdown",
   "metadata": {},
   "source": [
    "Given that this took so quickly, I do not believe it would have been necessary to find a more optimal computational strategy here."
   ]
  }
 ],
 "metadata": {
  "kernelspec": {
   "display_name": "Python 3",
   "language": "python",
   "name": "python3"
  },
  "language_info": {
   "codemirror_mode": {
    "name": "ipython",
    "version": 3
   },
   "file_extension": ".py",
   "mimetype": "text/x-python",
   "name": "python",
   "nbconvert_exporter": "python",
   "pygments_lexer": "ipython3",
   "version": "3.8.5"
  }
 },
 "nbformat": 4,
 "nbformat_minor": 4
}
