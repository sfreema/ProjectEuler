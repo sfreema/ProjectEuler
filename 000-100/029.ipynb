{
 "cells": [
  {
   "cell_type": "markdown",
   "metadata": {},
   "source": [
    "# Euler Problem 29: Distinct powers\n",
    "\n",
    "[Problem Statement](https://projecteuler.net/problem=29)"
   ]
  },
  {
   "cell_type": "markdown",
   "metadata": {},
   "source": [
    "We have a $a$ by $b$ matrix where each entry is $a^b$. The goal is to determine the number of unique entries when $2 \\leq a,b \\leq 100$. The 5 by 4 matrix is shown below with the first unique entry (when red left to right, top to bottom) :\n",
    "\n",
    "$$\\begin{bmatrix}\\mathbf{4} & \\mathbf{8} & \\mathbf{16} & \\mathbf{32} \\\\ \\mathbf{9} & \\mathbf{27} & \\mathbf{81} & \\mathbf{243} \\\\ 16 & 64 & \\mathbf{256} & \\mathbf{1024} \\\\ \\mathbf{25} & \\mathbf{125} & \\mathbf{625} & \\mathbf{3125} \\\\ \\mathbf{36} & \\mathbf{216} & \\mathbf{1296} & \\mathbf{7776} \\end{bmatrix}$$"
   ]
  },
  {
   "cell_type": "markdown",
   "metadata": {},
   "source": [
    "***\n",
    "## Analytical Observations"
   ]
  },
  {
   "cell_type": "markdown",
   "metadata": {},
   "source": [
    "The [Fundamental Theorem of Arithmetic](https://en.wikipedia.org/wiki/Fundamental_theorem_of_arithmetic) will be the main tool here. It states that all integers can be uniquely represented by a prime factorization. As a result there are three distinct categories:\n",
    "1. Prime values of $a$ will always provide unique entries for all $b$.\n",
    "2. Composite values of $a$ that are equal to previous $a$ values raised to some integer-valued exponent will provide only some unique entries for high values of $b$. For example $4 = 2^2$ so, as shown in the matrix above, lower $b$ values yield repeated entries, but for high $b$, $2^b$ will reach a maximum value less than that of $4^b$.\n",
    "3. All other composite values of $a$ will also provide unique entries for all $b$."
   ]
  },
  {
   "cell_type": "markdown",
   "metadata": {},
   "source": [
    "***\n",
    "## Computational Approach"
   ]
  },
  {
   "cell_type": "markdown",
   "metadata": {},
   "source": [
    "We will first identify which category each value of $a$ falls in from 2 to 100.\n",
    "\n",
    "$a$-values in the second category will need some manual computation. Writing these values as $a = \\alpha^\\beta$ where $\\alpha$ is the highest possible previous $a$-value and $\\beta$ is the accompanying exponent (ie. for cases like 16, we take $\\alpha^\\beta = 4^2$ rather than $\\alpha^\\beta = 2^4$)."
   ]
  },
  {
   "cell_type": "code",
   "execution_count": 43,
   "metadata": {},
   "outputs": [],
   "source": [
    "#imports\n",
    "import math"
   ]
  },
  {
   "cell_type": "code",
   "execution_count": 66,
   "metadata": {},
   "outputs": [
    {
     "name": "stdout",
     "output_type": "stream",
     "text": [
      "8 Primes: [2, 3, 5, 7, 11, 13, 17, 19]\n",
      "11 Composite numbers in category 2: {4: (2, 2), 8: (2, 3), 16: (4, 2), 32: (2, 5), 64: (8, 2), 9: (3, 2), 27: (3, 3), 81: (9, 2), 25: (5, 2), 36: (6, 2), 49: (7, 2)}\n",
      "7 Composite numbers in category 3: [6, 10, 12, 14, 15, 18, 20]\n"
     ]
    }
   ],
   "source": [
    "primes = []\n",
    "comps_repeat = {}\n",
    "comps_unique = []\n",
    "\n",
    "def get_repeats(n):\n",
    "    for exp in range(2,7):\n",
    "        if n**exp < 100:\n",
    "            comps_repeat[n**exp] = (n,exp)\n",
    "\n",
    "for n in range(2,20+1):\n",
    "    d_max = int(math.sqrt(n))\n",
    "    if d_max == 1:\n",
    "        get_repeats(n)\n",
    "        primes.append(n)\n",
    "    for d in range(2,d_max+1):\n",
    "        if not n % d:\n",
    "            get_repeats(n)\n",
    "            if n not in comps_repeat:\n",
    "                comps_unique.append(n)\n",
    "            break\n",
    "        elif d == d_max:\n",
    "            get_repeats(n)\n",
    "            primes.append(n)\n",
    "            \n",
    "print(len(primes),'Primes:',primes)\n",
    "print(len(comps_repeat),'Composite numbers in category 2:',comps_repeat)\n",
    "print(len(comps_unique),'Composite numbers in category 3:',comps_unique)\n",
    "\n",
    "# FIXME this is working fine, but the approach is broken. 8=2^3 and the next step would calculate when 8^b starts being higher than 2^100, but this ignores that 4^b overlaps with 8^b every other time, so there will still be overlap"
   ]
  },
  {
   "cell_type": "markdown",
   "metadata": {},
   "source": [
    "***\n",
    "## Conclusion"
   ]
  },
  {
   "cell_type": "markdown",
   "metadata": {},
   "source": [
    "Given that this took so quickly, I do not believe it would have been necessary to find a more optimal computational strategy here."
   ]
  }
 ],
 "metadata": {
  "kernelspec": {
   "display_name": "Python 3",
   "language": "python",
   "name": "python3"
  },
  "language_info": {
   "codemirror_mode": {
    "name": "ipython",
    "version": 3
   },
   "file_extension": ".py",
   "mimetype": "text/x-python",
   "name": "python",
   "nbconvert_exporter": "python",
   "pygments_lexer": "ipython3",
   "version": "3.8.5"
  }
 },
 "nbformat": 4,
 "nbformat_minor": 4
}
