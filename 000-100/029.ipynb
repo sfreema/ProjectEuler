{
 "cells": [
  {
   "cell_type": "markdown",
   "metadata": {},
   "source": [
    "# Euler Problem 29: Distinct powers\n",
    "\n",
    "[Problem Statement](https://projecteuler.net/problem=29)"
   ]
  },
  {
   "cell_type": "markdown",
   "metadata": {},
   "source": [
    "We have a matrix where each entry is $a^b$, where $a$ indexes the rows and $b$ indexes the columns. The goal is to determine the number of unique entries when $2 \\leq a,b \\leq 100$. The 5 by 4 matrix is shown below, and this has just one non-unique value of 16 shown unbolded:\n",
    "\n",
    "$$\\begin{bmatrix}\\mathbf{4} & \\mathbf{8} & \\mathbf{16} & \\mathbf{32} \\\\ \\mathbf{9} & \\mathbf{27} & \\mathbf{81} & \\mathbf{243} \\\\ 16 & \\mathbf{64} & \\mathbf{256} & \\mathbf{1024} \\\\ \\mathbf{25} & \\mathbf{125} & \\mathbf{625} & \\mathbf{3125} \\\\ \\mathbf{36} & \\mathbf{216} & \\mathbf{1296} & \\mathbf{7776} \\end{bmatrix}$$"
   ]
  },
  {
   "cell_type": "markdown",
   "metadata": {},
   "source": [
    "***\n",
    "## Analytical Observations"
   ]
  },
  {
   "cell_type": "markdown",
   "metadata": {},
   "source": [
    "The [Fundamental Theorem of Arithmetic](https://en.wikipedia.org/wiki/Fundamental_theorem_of_arithmetic) will be the main tool here. It states that all integers can be uniquely represented by a prime factorization. As a result there are three distinct categories:\n",
    "1. Prime values of $a$ will always provide unique entries for all $b$.\n",
    "2. Composite values of $a$ that are equal to previous $a$ values raised to some integer-valued exponent will provide only some unique entries for high values of $b$. For example $4 = 2^2$ so, as shown in the matrix above, lower $b$ values yield repeated entries, but for high $b$, $2^b$ will reach a maximum value less than that of $4^b$. Unfortunately though it will not be so simple in a few cases when the base is low enough that not only its square but its cube and more are under $100$, such as for $2$,$3$,$4$. For example, $8 = 2^3$ will produce unique numbers from $4 = 2^2$ some of the time (ie. $2^9$, and whenever the exponent is odd. When the exponent is greater than 100). These cases will be dealt with in a brute force approach since there will be few cases to consider.\n",
    "3. All other composite values of $a$ will also provide unique entries for all $b$."
   ]
  },
  {
   "cell_type": "markdown",
   "metadata": {},
   "source": [
    "***\n",
    "## Computational Approach"
   ]
  },
  {
   "cell_type": "markdown",
   "metadata": {},
   "source": [
    "We will first identify which category each value of $a$ falls in from 2 to 100.\n",
    "\n",
    "$a$-values in the second category will need some manual computation. Writing these values as $a = \\alpha^\\beta$ where $\\alpha$ is the lowest possible previous $a$-value and $\\beta$ is the accompanying exponent (ie. for cases like 16, we take $\\alpha^\\beta = 2^4$ rather than $\\alpha^\\beta = 4^2$)."
   ]
  },
  {
   "cell_type": "code",
   "execution_count": 1,
   "metadata": {},
   "outputs": [],
   "source": [
    "#imports\n",
    "import math"
   ]
  },
  {
   "cell_type": "code",
   "execution_count": 2,
   "metadata": {},
   "outputs": [
    {
     "name": "stdout",
     "output_type": "stream",
     "text": [
      "25 Primes: [2, 3, 5, 7, 11, 13, 17, 19, 23, 29, 31, 37, 41, 43, 47, 53, 59, 61, 67, 71, 73, 79, 83, 89, 97]\n",
      "12 Composite numbers in category 2: [(4, (2, 2)), (8, (2, 3)), (9, (3, 2)), (16, (2, 4)), (25, (5, 2)), (27, (3, 3)), (32, (2, 5)), (36, (6, 2)), (49, (7, 2)), (64, (2, 6)), (81, (3, 4)), (100, (10, 2))]\n",
      "62 Composite numbers in category 3: [6, 10, 12, 14, 15, 18, 20, 21, 22, 24, 26, 28, 30, 33, 34, 35, 38, 39, 40, 42, 44, 45, 46, 48, 50, 51, 52, 54, 55, 56, 57, 58, 60, 62, 63, 65, 66, 68, 69, 70, 72, 74, 75, 76, 77, 78, 80, 82, 84, 85, 86, 87, 88, 90, 91, 92, 93, 94, 95, 96, 98, 99]\n"
     ]
    }
   ],
   "source": [
    "primes = []\n",
    "comps_repeat = {}\n",
    "comps_unique = []\n",
    "\n",
    "def get_repeats(n):\n",
    "    for exp in range(2,7):\n",
    "        if n**exp <= 100 and n**exp not in comps_repeat:\n",
    "            comps_repeat[n**exp] = (n,exp)\n",
    "\n",
    "for n in range(2,100+1):\n",
    "    d_max = int(math.sqrt(n))\n",
    "    if d_max == 1:\n",
    "        get_repeats(n)\n",
    "        primes.append(n)\n",
    "    for d in range(2,d_max+1):\n",
    "        if not n % d:\n",
    "            get_repeats(n)\n",
    "            if n not in comps_repeat:\n",
    "                comps_unique.append(n)\n",
    "            break\n",
    "        elif d == d_max:\n",
    "            get_repeats(n)\n",
    "            primes.append(n)\n",
    "            \n",
    "comps_repeat = list(comps_repeat.items())\n",
    "comps_repeat.sort()\n",
    "print(len(primes),'Primes:',primes)\n",
    "print(len(comps_repeat),'Composite numbers in category 2:',comps_repeat)\n",
    "print(len(comps_unique),'Composite numbers in category 3:',comps_unique)"
   ]
  },
  {
   "cell_type": "markdown",
   "metadata": {},
   "source": [
    "Based on this, we have only 11 cases within the 2nd category to analyze. Expand this list out to all prime factorizations, only allowing the expansion for values not already present in the expansion as well as requiring values with the exponent over $100$:"
   ]
  },
  {
   "cell_type": "code",
   "execution_count": 3,
   "metadata": {},
   "outputs": [],
   "source": [
    "comps = []\n",
    "factorizations = [n[1] for n in comps_repeat]\n",
    "factorizations.sort()\n",
    "\n",
    "for n in factorizations:\n",
    "    for i in range(2,100+1):\n",
    "        if n[1]*i > 100 and (n[0],n[1]*i) not in comps:\n",
    "            comps.append((n[0],n[1]*i))"
   ]
  },
  {
   "cell_type": "code",
   "execution_count": 4,
   "metadata": {},
   "outputs": [
    {
     "name": "stdout",
     "output_type": "stream",
     "text": [
      "Answer: 9183\n"
     ]
    }
   ],
   "source": [
    "total = len(comps) + 99*(len(primes) + len(comps_unique))\n",
    "print('Answer:',total)"
   ]
  },
  {
   "cell_type": "markdown",
   "metadata": {},
   "source": [
    "***\n",
    "## Conclusion"
   ]
  },
  {
   "cell_type": "markdown",
   "metadata": {},
   "source": [
    "Ran pretty quick overall, not particularly difficult overall."
   ]
  }
 ],
 "metadata": {
  "kernelspec": {
   "display_name": "Python 3",
   "language": "python",
   "name": "python3"
  },
  "language_info": {
   "codemirror_mode": {
    "name": "ipython",
    "version": 3
   },
   "file_extension": ".py",
   "mimetype": "text/x-python",
   "name": "python",
   "nbconvert_exporter": "python",
   "pygments_lexer": "ipython3",
   "version": "3.8.5"
  }
 },
 "nbformat": 4,
 "nbformat_minor": 4
}
