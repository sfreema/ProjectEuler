{
 "cells": [
  {
   "cell_type": "markdown",
   "metadata": {},
   "source": [
    "# Euler Problem 27\n",
    "\n",
    "[Problem Statement](https://projecteuler.net/problem=27)"
   ]
  },
  {
   "cell_type": "markdown",
   "metadata": {},
   "source": [
    "We have a parabola of standard form $f(n) = n^2 + an + b$ where $|a| < 1000, |b| \\leq 1000$ and $a,b \\in \\mathbb{Z}$ (the set of all integers). The goal is to find $a,b$ subject to their constraints so that for consecutive integers $n$ starting from $n = 0$, the above formula yields the most primes."
   ]
  },
  {
   "cell_type": "markdown",
   "metadata": {},
   "source": [
    "## Analytical Observations\n",
    "\n",
    "1. Since we must start with $n = 0$, $b$ has to be prime and therefore $b > 1$.\n",
    "\n",
    "2. Consider the parity (evenness vs oddness) of $f(n)$, which must be odd for any sequence of primes except for the special case when $b = 2$. Also note that for all $n$, $f(n+1) - f(n) = 2n + a + 1$ has the opposite parity of $a$.\n",
    " 1. Case $b\\neq 2$: For all $n$, $f(n)$ is odd, so $2n + a + 1$ must be odd. This implies that $a$ is odd.\n",
    " 2. Case $b = 2$: $f(1) - f(0)$ must be odd, then all further consecutive differences must be even. Since a is fixed, this cannot happen. Therefore $b \\geq 3$.\n",
    "\n",
    "\n",
    "3. The vertex form is $f(n) = (n+\\frac{a}{2})^2 + b - \\frac{a^2}{4}$, making the vertex $(-\\frac{a}{2},b - \\frac{a^2}{4})$. Since $a$ is odd the vertex occurs between integer values, yet for $n \\in \\mathbb{Z}$, $f(n) \\in \\mathbb{Z}$. Since half a unit away from where the vertex occurs will raise the parabola's value by one-quarter (ie. for $y(x) = x^2$, $y(\\frac{1}{2}) = \\frac{1}{4}$), we need the vertex value $\\pm \\frac{1}{4}$ to be an integer:\n",
    "$$b - \\frac{a^2}{4} + \\frac{1}{4} \\in \\mathbb{Z}$$\n",
    "$$a^2 = 1 + 4k, k \\in \\mathbb{Z}, k \\geq 0$$\n",
    "after some manipulation. Therefore, $|a|$ can only take on values when $1+4k$ is a square. This occurs less often than every odd number, for example when $k=1$, $1 + 4(1) = 5$ is not a square.\n",
    "\n",
    "4. Since $f(n) > 0$ for $ n \\geq 0$, parabola roots must be imaginary or occur when $n \\leq 0$. Using the quadratic formula, roots are located at $n_{roots} = \\frac{-a \\pm \\sqrt{a^2-4b}}{2}$.\n",
    " 1. Case imaginary roots: $a^2 - 4b < 0 \\Rightarrow |a| < 2\\sqrt{b}$.\n",
    " 2. Case $n_{roots} \\leq 0$: The discriminant is greater than 0 and cannot be 0 based on the above discussion in 3: the vertex must be $\\frac{1}{4}$ below an integer value. So we need $a^2-4b > 0$ and the larger root $n = \\frac{-a + \\sqrt{a^2-4b}}{2} < 0$. These inequalities simplify to $|a| > 2\\sqrt{b}$ given $a > 0$.\n",
    "<br>\n",
    "***"
   ]
  },
  {
   "cell_type": "markdown",
   "metadata": {},
   "source": [
    "## Looking at the examples"
   ]
  },
  {
   "cell_type": "markdown",
   "metadata": {},
   "source": [
    "The problem statement provides two examples. One is the quadratic $n^2 + n + 41$ where every $n$ in $0 \\leq n \\leq 39$ yield a prime. Another is $n^2 - 79n + 1601$ for $0 \\leq n \\leq 79$."
   ]
  },
  {
   "cell_type": "code",
   "execution_count": 14,
   "metadata": {},
   "outputs": [],
   "source": [
    "def print_example(a,b,end):\n",
    "    for n in range(end):\n",
    "        print('n =',n,', f(n) =',n**2+a*n+b)"
   ]
  },
  {
   "cell_type": "code",
   "execution_count": 16,
   "metadata": {},
   "outputs": [
    {
     "name": "stdout",
     "output_type": "stream",
     "text": [
      "n = 0 , f(n) = 41\n",
      "n = 1 , f(n) = 43\n",
      "n = 2 , f(n) = 47\n",
      "n = 3 , f(n) = 53\n",
      "n = 4 , f(n) = 61\n",
      "n = 5 , f(n) = 71\n",
      "n = 6 , f(n) = 83\n",
      "n = 7 , f(n) = 97\n",
      "n = 8 , f(n) = 113\n",
      "n = 9 , f(n) = 131\n",
      "n = 10 , f(n) = 151\n",
      "n = 11 , f(n) = 173\n",
      "n = 12 , f(n) = 197\n",
      "n = 13 , f(n) = 223\n",
      "n = 14 , f(n) = 251\n",
      "n = 15 , f(n) = 281\n",
      "n = 16 , f(n) = 313\n",
      "n = 17 , f(n) = 347\n",
      "n = 18 , f(n) = 383\n",
      "n = 19 , f(n) = 421\n",
      "n = 20 , f(n) = 461\n",
      "n = 21 , f(n) = 503\n",
      "n = 22 , f(n) = 547\n",
      "n = 23 , f(n) = 593\n",
      "n = 24 , f(n) = 641\n",
      "n = 25 , f(n) = 691\n",
      "n = 26 , f(n) = 743\n",
      "n = 27 , f(n) = 797\n",
      "n = 28 , f(n) = 853\n",
      "n = 29 , f(n) = 911\n",
      "n = 30 , f(n) = 971\n",
      "n = 31 , f(n) = 1033\n",
      "n = 32 , f(n) = 1097\n",
      "n = 33 , f(n) = 1163\n",
      "n = 34 , f(n) = 1231\n",
      "n = 35 , f(n) = 1301\n",
      "n = 36 , f(n) = 1373\n",
      "n = 37 , f(n) = 1447\n",
      "n = 38 , f(n) = 1523\n",
      "n = 39 , f(n) = 1601\n",
      "n = 40 , f(n) = 1681\n"
     ]
    }
   ],
   "source": [
    "print_example(1,41,41)"
   ]
  },
  {
   "cell_type": "markdown",
   "metadata": {},
   "source": [
    "$1681 = 41^2$"
   ]
  },
  {
   "cell_type": "code",
   "execution_count": null,
   "metadata": {},
   "outputs": [],
   "source": [
    "# FIXME: graph"
   ]
  },
  {
   "cell_type": "code",
   "execution_count": 10,
   "metadata": {},
   "outputs": [],
   "source": [
    "# FIXME: graph, then look at terms\n",
    "#print_example(-79,1601,81)"
   ]
  },
  {
   "cell_type": "markdown",
   "metadata": {},
   "source": [
    "## Computational Approach"
   ]
  },
  {
   "cell_type": "code",
   "execution_count": null,
   "metadata": {},
   "outputs": [],
   "source": []
  }
 ],
 "metadata": {
  "kernelspec": {
   "display_name": "Python 3",
   "language": "python",
   "name": "python3"
  },
  "language_info": {
   "codemirror_mode": {
    "name": "ipython",
    "version": 3
   },
   "file_extension": ".py",
   "mimetype": "text/x-python",
   "name": "python",
   "nbconvert_exporter": "python",
   "pygments_lexer": "ipython3",
   "version": "3.8.5"
  }
 },
 "nbformat": 4,
 "nbformat_minor": 4
}
