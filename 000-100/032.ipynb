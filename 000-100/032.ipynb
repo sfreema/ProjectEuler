{
 "cells": [
  {
   "cell_type": "markdown",
   "metadata": {},
   "source": [
    "# Euler Problem 32: Pandigital products\n",
    "\n",
    "[Problem Statement](https://projecteuler.net/problem=32)"
   ]
  },
  {
   "cell_type": "markdown",
   "metadata": {},
   "source": [
    "A set of numbers is $n$ __pandigital__ when all digits count 1 to $n$ exactly once (ex: $\\{1,2\\}$ and $\\{12\\}$ are each 2 pandigital). In this problem we wish to find all sets $\\{a,b,c | ab = c\\}$. Then our final answer to this question will be the product of all numbers $c$."
   ]
  },
  {
   "cell_type": "markdown",
   "metadata": {},
   "source": [
    "---\n",
    "\n",
    "## Analytical Observations\n",
    "\n",
    "We will perform a search over $a,b$. What is the largest possible value for $a,b$? We cannot make any valid product when choosing either to be 1, because this would result in more than 9 digits in the product. We may be able to form a product when choosing either to be 2, and this crudely makes the largest possible value of either to be 4999 (that would specifically be unallowed).\n",
    "\n",
    "We could brute force search through unique $a,b$ options to a maximum of 4999. How many $a,b$ options are themselves without repeat digits?"
   ]
  },
  {
   "cell_type": "markdown",
   "metadata": {},
   "source": [
    "***\n",
    "## Computational Approach"
   ]
  },
  {
   "cell_type": "code",
   "execution_count": null,
   "metadata": {},
   "outputs": [],
   "source": [
    "def digits(n):\n",
    "    chars = []\n",
    "    for c in str(n):\n",
    "        if c == '0':\n",
    "            return -1\n",
    "        elif c not in chars:\n",
    "            chars.append(c)\n",
    "        else:\n",
    "            return -1\n",
    "    return chars"
   ]
  },
  {
   "cell_type": "code",
   "execution_count": null,
   "metadata": {},
   "outputs": [],
   "source": [
    "options = []\n",
    "for a in range(2,4999):\n",
    "    if digits(a) != -1:\n",
    "        options.append(a)\n",
    "print(len(options))"
   ]
  },
  {
   "cell_type": "markdown",
   "metadata": {},
   "source": [
    "So at most we have 1928x1928$\\approx$4000000 options, but of course this is a significant overestimation. When considering 2 numbers that must share no digits we have the following number of options:"
   ]
  },
  {
   "cell_type": "code",
   "execution_count": 3,
   "metadata": {},
   "outputs": [
    {
     "name": "stdout",
     "output_type": "stream",
     "text": [
      "387772\n"
     ]
    }
   ],
   "source": [
    "options = 0\n",
    "for a in range(2,4999):\n",
    "    for b in range(2,4999):\n",
    "        ab = str(a) + str(b)\n",
    "        if digits(ab) != -1:\n",
    "            options += 1\n",
    "print(options)"
   ]
  },
  {
   "cell_type": "markdown",
   "metadata": {},
   "source": [
    "This took probably 20 seconds to compute. Not too bad.."
   ]
  },
  {
   "cell_type": "code",
   "execution_count": 8,
   "metadata": {},
   "outputs": [
    {
     "name": "stdout",
     "output_type": "stream",
     "text": [
      "4 1738 6952\n",
      "4 1963 7852\n",
      "12 483 5796\n",
      "18 297 5346\n",
      "28 157 4396\n",
      "39 186 7254\n",
      "48 159 7632\n",
      "Answer: 45228\n"
     ]
    }
   ],
   "source": [
    "cOptions = []\n",
    "for a in range(2,4999):\n",
    "    for b in range(2,4999):\n",
    "        c = str(a) + str(b) + str(a*b)\n",
    "        if len(c) == 9 and digits(c) != -1 and a*b not in cOptions:\n",
    "            print(a,b,a*b)\n",
    "            cOptions.append(a*b)\n",
    "product = sum(cOptions)\n",
    "print('Answer:',product)"
   ]
  },
  {
   "cell_type": "markdown",
   "metadata": {},
   "source": [
    "---\n",
    "\n",
    "## Conclusion\n",
    "\n",
    "This can certainly be improved, but since the computation was determined to take only a little time no optimization was performed."
   ]
  }
 ],
 "metadata": {
  "kernelspec": {
   "display_name": "Python 3",
   "language": "python",
   "name": "python3"
  },
  "language_info": {
   "codemirror_mode": {
    "name": "ipython",
    "version": 3
   },
   "file_extension": ".py",
   "mimetype": "text/x-python",
   "name": "python",
   "nbconvert_exporter": "python",
   "pygments_lexer": "ipython3",
   "version": "3.8.5"
  }
 },
 "nbformat": 4,
 "nbformat_minor": 4
}
